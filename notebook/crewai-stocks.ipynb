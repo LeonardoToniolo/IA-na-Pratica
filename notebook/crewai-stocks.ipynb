{
 "cells": [
  {
   "cell_type": "code",
   "execution_count": null,
   "metadata": {},
   "outputs": [],
   "source": [
    "#libs\n",
    "!pip3 install yfinance==0.2.41\n",
    "!pip3 install crewai==0.28.8\n",
    "!pip3 install 'crewai[Tools]'\n",
    "!pip3 install langchain==0.1.20\n",
    "!pip3 install langchain-openai==0.1.7\n",
    "!pip3 install langchain-community==0.0.38\n",
    "!pip3 install -U duckduckgo-search==5.3.0\n",
    "!pip3 install python-dotenv"
   ]
  },
  {
   "cell_type": "code",
   "execution_count": null,
   "metadata": {},
   "outputs": [],
   "source": [
    "#import\n",
    "from dotenv import load_dotenv\n",
    "import json\n",
    "import os\n",
    "from datetime import datetime\n",
    "\n",
    "import yfinance as yf\n",
    "from crewai import Agent, Task, Crew, Process\n",
    "from langchain.tools import Tool\n",
    "from langchain_openai import ChatOpenAI\n",
    "from langchain_community.tools import DuckDuckGoSearchResults\n",
    "\n",
    "\n",
    "from IPython.display import Markdown\n",
    "\n",
    "load_dotenv()\n"
   ]
  },
  {
   "cell_type": "code",
   "execution_count": null,
   "metadata": {},
   "outputs": [],
   "source": [
    "# creating Yahoo finance tool\n",
    "def fetch_stock_price(ticket):\n",
    "    stock = yf.download(ticket, start='2023-08-19', end='2024-08-19')\n",
    "    return stock\n",
    "\n",
    "yahoo_finance_tools = Tool(\n",
    "    name=\"Yahoo Finance Tools\",\n",
    "    description=\"Fetches stock prices for {ticket} from the last year about a specific company from Yahoo Finance API\",\n",
    "    func= lambda ticket: fetch_stock_price(ticket)\n",
    ")"
   ]
  },
  {
   "cell_type": "code",
   "execution_count": null,
   "metadata": {},
   "outputs": [],
   "source": [
    "# importing openai llm - gpt\n",
    "os.environ['OPENAI_API_KEY'] = os.getenv('OPENAI_API_KEY')\n",
    "llm = ChatOpenAI(model='gpt-3.5-turbo')"
   ]
  },
  {
   "cell_type": "code",
   "execution_count": null,
   "metadata": {},
   "outputs": [],
   "source": [
    "stockPriceAnalyst = Agent(\n",
    "    role=\"Senior Stock Price Analyst\",\n",
    "    goal=\"Find the {ticket} stock price and analyses trends\",\n",
    "    backstory=\"\"\"You're a highly experienced in analyzing the price of an specific stock \n",
    "    and make predictions about its future price.\"\"\",\n",
    "    verbose=True,\n",
    "    llm= llm,\n",
    "    max_iter= 5,\n",
    "    memory= True,\n",
    "    tools=[yahoo_finance_tools],\n",
    "    allow_delegation= False\n",
    ")"
   ]
  },
  {
   "cell_type": "code",
   "execution_count": null,
   "metadata": {},
   "outputs": [],
   "source": [
    "getStockPrice = Task(\n",
    "    description= \"Analyze the stock {ticket} price history and create a trend analyses of up, down or sideways\",\n",
    "    expected_output= \"\"\" Specify the current stock price - up, down or sideways.\n",
    "    eg. stock='AAPL, price UP' \n",
    "\"\"\",\n",
    "    agent= stockPriceAnalyst\n",
    ")"
   ]
  },
  {
   "cell_type": "code",
   "execution_count": null,
   "metadata": {},
   "outputs": [],
   "source": [
    "# importing search tool\n",
    "search_tool = DuckDuckGoSearchResults(backend='news', num_results=10)"
   ]
  },
  {
   "cell_type": "code",
   "execution_count": null,
   "metadata": {},
   "outputs": [],
   "source": [
    "newsAnalyst = Agent(\n",
    "    role= \"Stock News Analyst\",\n",
    "    goal= \"\"\" Create a short summary of the market news related to the stock {ticket} company. \n",
    "    Specify the content trend - up, down or sideways with the news content.\n",
    "    For each request stock asset, specify a number between 0 and 100, where 0 is extreme fear and 100 is \n",
    "    extreme greed.\n",
    "    \"\"\",\n",
    "    backstory=\"\"\" You're highly experienced in analyzing the market trends and news and have tracked assets for \n",
    "    more than 10 years. You're also master lever analyst in the traditional markets and have deep understanding of\n",
    "    human psychology.\n",
    "\n",
    "    You understand news, their titles and information, but you look those with a healthy dose of skepticism.\n",
    "    You consider also the source of the news article\n",
    "\"\"\",\n",
    "    verbose=True,\n",
    "    llm= llm,\n",
    "    max_iter= 10,\n",
    "    memory= True,\n",
    "    tools=[search_tool],\n",
    "    allow_delegation= False\n",
    ")"
   ]
  },
  {
   "cell_type": "code",
   "execution_count": null,
   "metadata": {},
   "outputs": [],
   "source": [
    "get_news= Task(\n",
    "    description= f\"\"\"Take the stock and always include BTC to it (if not requested).\n",
    "    Use the search tool to search each one individually.\n",
    "\n",
    "    The current date is {datetime.now()}.\n",
    "\n",
    "    Compose the results into a helpfull report\n",
    "    \"\"\",\n",
    "    expected_output= \"\"\" A summary of the overall market and one sentence summary for each request asset.\n",
    "Include a fear/greed score for each asset based on the news. Use format:\n",
    "<STOCK ASSET>\n",
    "<SUMMARY BASED ON NEWS>\n",
    "<TREND PREDICTIONS>\n",
    "<FEAR/GREED SCORE>  \n",
    "\"\"\",\n",
    "    agent= newsAnalyst\n",
    ")"
   ]
  },
  {
   "cell_type": "code",
   "execution_count": null,
   "metadata": {},
   "outputs": [],
   "source": [
    "stockAnalystWrite= Agent(\n",
    "    role= \"Senior Stock Analyst Writer\",\n",
    "    goal= \"\"\" Analyze the trends price and news so you can write an insightfull compelling and informative 3 paragraph long newsletter based on the stock report \n",
    "    and price trend.\n",
    "    \"\"\",\n",
    "    backstory=\"\"\" You're wiedly accepted as the best stock analyst in the market. You Undestand complex concepts and\n",
    "    create compelling stories and narratives that resonate with wider audiences.\n",
    "\n",
    "    You understand macro factors and combine multiple theories - eg. cycle theory and fundamental analyses.\n",
    "    You're able to hold multiple opnions when analyzing anything.\n",
    "    \"\"\",\n",
    "    verbose=True,\n",
    "    llm= llm,\n",
    "    max_iter= 5,\n",
    "    memory= True,\n",
    "    allow_delegation= True,\n",
    "    tools=[search_tool]\n",
    ")"
   ]
  },
  {
   "cell_type": "code",
   "execution_count": null,
   "metadata": {},
   "outputs": [],
   "source": [
    "writeAnalysis = Task(\n",
    "    description= \"\"\" Use the stock price trend and the stock price news report to create analysis and write the newsletter \n",
    "    about the {ticket} company that is brief and highlights the most important points.\n",
    "    Focus on the stock price trend, news and fear/greed score. what are the near future considerations?\n",
    "\n",
    "    include previous analyses of stock trend and news summary.\n",
    "    \"\"\",\n",
    "    expected_output= \"\"\" And eloquent 3 paragraphs newsletter formated as markdown in an easy readable manner.it should contain:\n",
    "\n",
    "    - 3 bullets executive summary \n",
    "    - Introduction - set the overall picture and spike up the interest \n",
    "    - main part provides the meat of the analysis including the news summary and fear/greed scores\n",
    "    - summary - key facts and concrete future trend predictions - up, down or sideways.\n",
    "\"\"\",\n",
    "    agent= stockAnalystWrite,\n",
    "    context=[getStockPrice, get_news]\n",
    ")"
   ]
  },
  {
   "cell_type": "code",
   "execution_count": null,
   "metadata": {},
   "outputs": [],
   "source": [
    "crew = Crew(\n",
    "    agents=[stockPriceAnalyst, newsAnalyst, stockAnalystWrite],\n",
    "    tasks=[getStockPrice, get_news, writeAnalysis],\n",
    "    verbose=True,\n",
    "    process= Process.hierarchical,\n",
    "    full_output=True,\n",
    "    share_crew=False, \n",
    "    manager_llm=llm,\n",
    "    max_iter=15\n",
    ")"
   ]
  },
  {
   "cell_type": "code",
   "execution_count": null,
   "metadata": {},
   "outputs": [],
   "source": [
    "results = crew.kickoff(inputs={'ticket': 'AAPL'})"
   ]
  },
  {
   "cell_type": "code",
   "execution_count": null,
   "metadata": {},
   "outputs": [],
   "source": [
    "Markdown(results['final_output'])"
   ]
  }
 ],
 "metadata": {
  "kernelspec": {
   "display_name": "Python 3",
   "language": "python",
   "name": "python3"
  },
  "language_info": {
   "codemirror_mode": {
    "name": "ipython",
    "version": 3
   },
   "file_extension": ".py",
   "mimetype": "text/x-python",
   "name": "python",
   "nbconvert_exporter": "python",
   "pygments_lexer": "ipython3",
   "version": "3.11.7"
  }
 },
 "nbformat": 4,
 "nbformat_minor": 2
}
